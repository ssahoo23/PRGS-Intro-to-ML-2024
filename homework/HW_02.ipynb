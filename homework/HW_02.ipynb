{
 "cells": [
  {
   "cell_type": "markdown",
   "metadata": {},
   "source": [
    "Name: Srikant Kumar Sahoo\n",
    "\n",
    "For this assignment, you will practice downloadings, cleaning, and analyzing data from the National Risk Index (NRI) and the CDC Social Vulnerability Index (SVI).\n",
    "\n",
    "Preparation\n",
    "Create a ‘data’ folder in the root directory of your repository. DONE\n",
    "Inside the ‘data’ folder, create a ‘raw’ folder. DONE\n",
    "Add and commit a ‘.gitignore’ file to the root directory of this repository that excludes all contents of the ‘data’ folder. DONE\n",
    "Download the county-level NRI and SVI data for the entire United States. Place the data in the ‘data/raw’ folder. DONE\n",
    "In the repository README, provide a brief (1-2 sentence) description of each file in the ‘data’ folder and a link to the original source of the data. DONE\n",
    "Task 1 - NRI Data Cleaning\n",
    "1. Import the NRI data. Ensure that the FIPS code variable (‘STCOFIPS’) is correctly identified as a string / character variable. Otherwise, the leading zeros will be removed."
   ]
  },
  {
   "cell_type": "code",
   "execution_count": null,
   "metadata": {},
   "outputs": [],
   "source": [
    "import pandas as pd\n",
    "import os\n",
    "os.getcwd()\n",
    "# Import and identify 'STCOFIPS' as string\n",
    "nri_data = pd.read_csv('data/raw/NRI_Table_Counties.csv', dtype={'STCOFIPS': str})\n",
    "# Check the first few rows to confirm\n",
    "print(nri_data.head())"
   ]
  }
 ],
 "metadata": {
  "language_info": {
   "name": "python"
  }
 },
 "nbformat": 4,
 "nbformat_minor": 2
}
